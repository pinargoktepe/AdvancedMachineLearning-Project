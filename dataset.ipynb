{
 "cells": [
  {
   "cell_type": "markdown",
   "metadata": {},
   "source": [
    "How to use: Download the folders 'Anno', 'Eval' and 'Img' from the Category and Attribute Prediction Benchmark, convert the zip-files to folders, place this file in the same directory and run it. It will create a dataset folder with subfolders 'train', 'val' and 'test' which have as subfolders all the categories. The images are placed accordingly. It also creates a textfile containing all the paths to the images. (runtime around 20 min)"
   ]
  },
  {
   "cell_type": "code",
   "execution_count": null,
   "metadata": {},
   "outputs": [],
   "source": [
    "import numpy as np\n",
    "evalpath = 'Eval/list_eval_partition.txt'\n",
    "labelpath = 'Anno/list_category_img.txt'\n",
    "evaltxt = np.loadtxt(evalpath, dtype='object')\n",
    "labels = np.loadtxt(labelpath, dtype='object')\n",
    "print(labels.shape)"
   ]
  },
  {
   "cell_type": "code",
   "execution_count": null,
   "metadata": {},
   "outputs": [],
   "source": [
    "import os\n",
    "from shutil import copyfile\n",
    "\n",
    "n = len(labels)\n",
    "filepaths = np.empty(n, dtype='object')\n",
    "for i in range(n):\n",
    "    if (evaltxt[i,0] != labels[i,0]):\n",
    "        print('Error! different paths')\n",
    "    target = 'dataset/' + evaltxt[i,1] + '/' + labels[i,1] + '/' + str(i+1)+'.jpg'\n",
    "    os.makedirs(os.path.dirname(target), exist_ok=True)\n",
    "    copyfile(evaltxt[i,0], target)\n",
    "    filepaths[i] = target\n",
    "    if (i%1000==0):\n",
    "        print(str(i))\n",
    "np.savetxt('filepaths.txt', filepaths, fmt='%s')\n",
    "print('done!')"
   ]
  }
 ],
 "metadata": {
  "kernelspec": {
   "display_name": "Python 3",
   "language": "python",
   "name": "python3"
  },
  "language_info": {
   "codemirror_mode": {
    "name": "ipython",
    "version": 3
   },
   "file_extension": ".py",
   "mimetype": "text/x-python",
   "name": "python",
   "nbconvert_exporter": "python",
   "pygments_lexer": "ipython3",
   "version": "3.7.1"
  }
 },
 "nbformat": 4,
 "nbformat_minor": 2
}
